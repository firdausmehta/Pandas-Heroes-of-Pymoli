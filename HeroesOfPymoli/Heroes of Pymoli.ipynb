{
 "cells": [
  {
   "cell_type": "code",
   "execution_count": 63,
   "metadata": {},
   "outputs": [],
   "source": [
    "# Dependencies\n",
    "import pandas as pd\n",
    "import numpy as np\n",
    "import os\n",
    "\n",
    "# CSV File\n",
    "csv_path = \"Resources/purchase_data.csv\"\n",
    "\n",
    "# Read CSV into DF\n",
    "data_file = pd.read_csv(csv_path)"
   ]
  },
  {
   "cell_type": "code",
   "execution_count": 65,
   "metadata": {},
   "outputs": [
    {
     "data": {
      "text/html": [
       "<div>\n",
       "<style scoped>\n",
       "    .dataframe tbody tr th:only-of-type {\n",
       "        vertical-align: middle;\n",
       "    }\n",
       "\n",
       "    .dataframe tbody tr th {\n",
       "        vertical-align: top;\n",
       "    }\n",
       "\n",
       "    .dataframe thead th {\n",
       "        text-align: right;\n",
       "    }\n",
       "</style>\n",
       "<table border=\"1\" class=\"dataframe\">\n",
       "  <thead>\n",
       "    <tr style=\"text-align: right;\">\n",
       "      <th></th>\n",
       "      <th>Total Players</th>\n",
       "    </tr>\n",
       "  </thead>\n",
       "  <tbody>\n",
       "    <tr>\n",
       "      <th>0</th>\n",
       "      <td>576</td>\n",
       "    </tr>\n",
       "  </tbody>\n",
       "</table>\n",
       "</div>"
      ],
      "text/plain": [
       "   Total Players\n",
       "0            576"
      ]
     },
     "execution_count": 65,
     "metadata": {},
     "output_type": "execute_result"
    }
   ],
   "source": [
    "### Player Count: Display the total number of Players\n",
    "\n",
    "Player_Totals = data_file.loc[:,[\"Gender\", \"SN\", \"Age\"]]\n",
    "Player_Totals = Player_Totals.drop_duplicates()\n",
    "Number_of_Players = Player_Totals.count()[0]\n",
    "\n",
    "pd.DataFrame({\"Total Players\" : [Number_of_Players]})"
   ]
  },
  {
   "cell_type": "code",
   "execution_count": 66,
   "metadata": {},
   "outputs": [
    {
     "data": {
      "text/html": [
       "<div>\n",
       "<style scoped>\n",
       "    .dataframe tbody tr th:only-of-type {\n",
       "        vertical-align: middle;\n",
       "    }\n",
       "\n",
       "    .dataframe tbody tr th {\n",
       "        vertical-align: top;\n",
       "    }\n",
       "\n",
       "    .dataframe thead th {\n",
       "        text-align: right;\n",
       "    }\n",
       "</style>\n",
       "<table border=\"1\" class=\"dataframe\">\n",
       "  <thead>\n",
       "    <tr style=\"text-align: right;\">\n",
       "      <th></th>\n",
       "      <th>Number of Unique Items</th>\n",
       "      <th>Average Purchase Price</th>\n",
       "      <th>Total Number of Purchases</th>\n",
       "      <th>Total Revenue</th>\n",
       "    </tr>\n",
       "  </thead>\n",
       "  <tbody>\n",
       "    <tr>\n",
       "      <th>0</th>\n",
       "      <td>179</td>\n",
       "      <td>$3.05</td>\n",
       "      <td>780</td>\n",
       "      <td>$2379.77</td>\n",
       "    </tr>\n",
       "  </tbody>\n",
       "</table>\n",
       "</div>"
      ],
      "text/plain": [
       "   Number of Unique Items Average Purchase Price  Total Number of Purchases  \\\n",
       "0                     179                  $3.05                        780   \n",
       "\n",
       "  Total Revenue  \n",
       "0      $2379.77  "
      ]
     },
     "execution_count": 66,
     "metadata": {},
     "output_type": "execute_result"
    }
   ],
   "source": [
    "### Purchasing Analysis (Total) ###\n",
    "    # Number of Unique Items\n",
    "    # Average Purchase Price\n",
    "    # Total Number of Purchases\n",
    "    # Total Revenue\n",
    "    \n",
    "Number_of_Unique_Items = data_file['Item ID'].nunique()\n",
    "Average_Price = data_file['Price'].mean().round(2)\n",
    "Number_of_Purchases = data_file['Purchase ID'].count()\n",
    "Total_Revenue = data_file['Price'].sum().round(2)\n",
    "\n",
    "### Purchasing Analysis DataFrame ###\n",
    "\n",
    "Total_Purchasing_AnalysisDF = pd.DataFrame({\n",
    "    \"Number of Unique Items\":[Number_of_Unique_Items],\n",
    "    \"Average Purchase Price\":[Average_Price],\n",
    "    \"Total Number of Purchases\":[Number_of_Purchases],\n",
    "    \"Total Revenue\":[Total_Revenue]})\n",
    "\n",
    "### Currency/Formatting Added ###\n",
    "Total_Purchasing_AnalysisDF[\"Average Purchase Price\"] = Total_Purchasing_AnalysisDF[\"Average Purchase Price\"].map(\"${:.2f}\".format)\n",
    "Total_Purchasing_AnalysisDF[\"Total Revenue\"] = Total_Purchasing_AnalysisDF[\"Total Revenue\"].map(\"${:.2f}\".format)\n",
    "Total_Purchasing_AnalysisDF"
   ]
  },
  {
   "cell_type": "code",
   "execution_count": null,
   "metadata": {},
   "outputs": [],
   "source": []
  }
 ],
 "metadata": {
  "kernelspec": {
   "display_name": "Python [conda env:PythonData] *",
   "language": "python",
   "name": "conda-env-PythonData-py"
  },
  "language_info": {
   "codemirror_mode": {
    "name": "ipython",
    "version": 3
   },
   "file_extension": ".py",
   "mimetype": "text/x-python",
   "name": "python",
   "nbconvert_exporter": "python",
   "pygments_lexer": "ipython3",
   "version": "3.6.10"
  }
 },
 "nbformat": 4,
 "nbformat_minor": 4
}
